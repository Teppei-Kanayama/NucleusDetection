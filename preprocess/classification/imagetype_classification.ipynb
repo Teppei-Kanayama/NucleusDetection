{
 "cells": [
  {
   "cell_type": "code",
   "execution_count": null,
   "metadata": {
    "collapsed": false
   },
   "outputs": [],
   "source": [
    "#-*- coding:utf-8 -*-\n",
    "\n",
    "#カラー/モノクロの識別をした後、カラー画像を3つのタイプ（白背景-紫、紫背景-紫、HE染色）に分類するプログラム\n",
    "#ルールベースでざーっと書いてみました。穴はあると思いますけど、とりあえず。\n",
    "\n",
    "import cv2\n",
    "import numpy as np\n",
    "#from matplotlib import pyplot as plt"
   ]
  },
  {
   "cell_type": "code",
   "execution_count": null,
   "metadata": {
    "collapsed": true
   },
   "outputs": [],
   "source": [
    "img = cv2.imread(\"sample7.png\")\n",
    "#opencvにおいては画像をimreadするとnumpy.ndarray形式で読み込まれる（行（高さ） x 列（幅） x 色（BGR）の三次元）\n",
    "#このとき、RGB順でなくBGR順になることに注意"
   ]
  },
  {
   "cell_type": "code",
   "execution_count": null,
   "metadata": {
    "collapsed": true
   },
   "outputs": [],
   "source": [
    "b, g, r = img[:,:,0], img[:,:,1], img[:,:,2]"
   ]
  },
  {
   "cell_type": "code",
   "execution_count": null,
   "metadata": {
    "collapsed": true
   },
   "outputs": [],
   "source": [
    "#カラーかモノクロかをまず判別する\n",
    "def colorormono(b, g, r):\n",
    "    if np.allclose(b, g) and np.allclose(g,r):\n",
    "        return \"mono\"\n",
    "    else:\n",
    "        return \"color\""
   ]
  },
  {
   "cell_type": "code",
   "execution_count": null,
   "metadata": {
    "collapsed": true
   },
   "outputs": [],
   "source": [
    "corm_result = colorormono(b, g, r)\n",
    "#print(corm_result)"
   ]
  },
  {
   "cell_type": "code",
   "execution_count": null,
   "metadata": {
    "collapsed": false
   },
   "outputs": [],
   "source": [
    "def mono_classification(r):\n",
    "    average = r.mean(0).mean(0)\n",
    "    #R=G=Bなので1つについてのみ画素の平均を計算\n",
    "    \n",
    "    #jupyter内で元画像を表示するためのやつ\n",
    "    from IPython.display import Image, display_png\n",
    "    display_png(Image(\"sample7.png\"))\n",
    "    \n",
    "    #全体に明るければ背景は白、暗ければ背景は黒\n",
    "    if average > 126:\n",
    "        print(\"This image is type white-back.\")\n",
    "    else:\n",
    "        print(\"This image is type black-back.\")"
   ]
  },
  {
   "cell_type": "code",
   "execution_count": null,
   "metadata": {
    "collapsed": true
   },
   "outputs": [],
   "source": [
    "def color_classification(r, g, b):\n",
    "    hist_r, bins = np.histogram(r.ravel(),256,[0,256])\n",
    "    hist_g, bins = np.histogram(g.ravel(),256,[0,256])\n",
    "    hist_b, bins = np.histogram(b.ravel(),256,[0,256])\n",
    "    #RGBそれぞれについて、ヒストグラム（0-255のピクセルがそれぞれいくつあるか）を作成\n",
    "    #これもnumpy.ndarrayである\n",
    "\n",
    "    #RGBそれぞれについてヒストグラムのピークを取得\n",
    "    #r_maxなどはnumpy.int64型であることに注意\n",
    "    r_max = np.argmax(hist_r)\n",
    "    b_max = np.argmax(hist_b)\n",
    "    g_max = np.argmax(hist_g)\n",
    "    \n",
    "    #jupyter内で元画像を表示するためのやつ\n",
    "    from IPython.display import Image, display_png\n",
    "    display_png(Image(\"sample7.png\"))\n",
    "\n",
    "    if abs(r_max - b_max) < 10 and abs(b_max - g_max) < 10 and abs(g_max - r_max) < 10:\n",
    "        print(\"This picture is type white-purple.\")\n",
    "    #3つのピークがほぼ等しい（閾値：10）（＝ほぼ白）なら白背景の紫パターン\n",
    "    elif b_max - r_max > 7 and r_max - g_max > 7:\n",
    "        print(\"This picture is type purple-purple.\")\n",
    "    #濃い方からピークがきれいに山3つ、Blue>Red>Greenになるようならば紫背景の紫パターン\n",
    "    elif r_max - b_max > 0 and b_max - g_max > 30:\n",
    "        print(\"This picture is type HE.\")\n",
    "    #BlueよりRedが濃く、Greenは非常に薄くて山がかなり下なほうなのがHE染色のパターン（肉眼だと赤っぽい）\n",
    "    else:\n",
    "        print(\"This picture is type white-purple(else).\")\n",
    "    #白背景の紫パターンで、これで捉えきれないものがあるので（ガバガバふぃるたー）"
   ]
  },
  {
   "cell_type": "code",
   "execution_count": null,
   "metadata": {
    "collapsed": false
   },
   "outputs": [],
   "source": [
    "if corm_result == \"mono\":\n",
    "    mono_classification(r)\n",
    "elif corm_result == \"color\":\n",
    "    color_classification(r, g, b)\n",
    "else:\n",
    "    print(\"error!\")"
   ]
  }
 ],
 "metadata": {
  "anaconda-cloud": {},
  "kernelspec": {
   "display_name": "Python [default]",
   "language": "python",
   "name": "python3"
  },
  "language_info": {
   "codemirror_mode": {
    "name": "ipython",
    "version": 3
   },
   "file_extension": ".py",
   "mimetype": "text/x-python",
   "name": "python",
   "nbconvert_exporter": "python",
   "pygments_lexer": "ipython3",
   "version": "3.5.2"
  }
 },
 "nbformat": 4,
 "nbformat_minor": 1
}
