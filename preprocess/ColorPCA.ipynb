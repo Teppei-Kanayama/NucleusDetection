{
 "cells": [
  {
   "cell_type": "code",
   "execution_count": 7,
   "metadata": {},
   "outputs": [],
   "source": [
    "import numpy as np\n",
    "import cv2\n",
    "import matplotlib.pyplot as plt\n",
    "class ColorPCA:#なお結果画像に変化はなかった模様。\n",
    "    __data = 0\n",
    "    def __init__(self,file_name):\n",
    "        org_data = cv2.imread(file_name, cv2.IMREAD_UNCHANGED)\n",
    "        org_re = org_data.reshape(-1,4)\n",
    "        org_mean=np.mean(org_data,axis=(0,1))\n",
    "        mean, eigenvectors = cv2.PCACompute(\n",
    "            data=org_re,\n",
    "            mean=org_mean.reshape(1,-1),\n",
    "            maxComponents=1\n",
    "        )\n",
    "        vec = eigenvectors.reshape(4)\n",
    "        eigen_data =org_data.dot(vec)\n",
    "        self.__data = (eigen_data-np.nanmin(eigen_data))/(np.nanmax(eigen_data)-np.nanmin(eigen_data))*255\n",
    "    def show(self):\n",
    "        plt.imshow(self.__data)\n",
    "        plt.gray()\n",
    "        plt.show()\n",
    "        lap= cv2.Laplacian(self.__data,cv2.CV_32F)\n",
    "        edge_img = cv2.convertScaleAbs(lap)\n",
    "        plt.imshow(edge_img)\n",
    "        plt.show()\n",
    "    def data(self):\n",
    "        return self.__data"
   ]
  }
 ],
 "metadata": {
  "kernelspec": {
   "display_name": "Python 3",
   "language": "python",
   "name": "python3"
  },
  "language_info": {
   "codemirror_mode": {
    "name": "ipython",
    "version": 3
   },
   "file_extension": ".py",
   "mimetype": "text/x-python",
   "name": "python",
   "nbconvert_exporter": "python",
   "pygments_lexer": "ipython3",
   "version": "3.6.3"
  }
 },
 "nbformat": 4,
 "nbformat_minor": 2
}
