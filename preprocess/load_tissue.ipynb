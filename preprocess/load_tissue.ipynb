{
 "cells": [
  {
   "cell_type": "code",
   "execution_count": 3,
   "metadata": {},
   "outputs": [],
   "source": [
    "import numpy as np\n",
    "from PIL import Image\n",
    "import os\n",
    "import cv2\n",
    "import xml.etree.ElementTree as ET\n",
    "#import skimage\n",
    "from skimage import morphology"
   ]
  },
  {
   "cell_type": "code",
   "execution_count": null,
   "metadata": {
    "scrolled": true
   },
   "outputs": [],
   "source": [
    "Image.open(\"/data/unagi0/kanayama/dataset/nuclei_images/Tissue_images/TCGA-18-5592-01Z-00-DX1.tif-1.png\")"
   ]
  },
  {
   "cell_type": "code",
   "execution_count": null,
   "metadata": {},
   "outputs": [],
   "source": [
    "tree = ET.parse('/data/unagi0/kanayama/dataset/nuclei_images/Tissue_annotations/TCGA-KB-A93J-01A-01-TS1.xml')\n",
    "elem = tree.getroot()"
   ]
  },
  {
   "cell_type": "code",
   "execution_count": null,
   "metadata": {},
   "outputs": [],
   "source": [
    "for child in root:\n",
    "    print(child.tag, child.attrib)"
   ]
  },
  {
   "cell_type": "code",
   "execution_count": null,
   "metadata": {},
   "outputs": [],
   "source": [
    "elem.tag"
   ]
  },
  {
   "cell_type": "code",
   "execution_count": null,
   "metadata": {},
   "outputs": [],
   "source": [
    "root.get()"
   ]
  },
  {
   "cell_type": "code",
   "execution_count": null,
   "metadata": {},
   "outputs": [],
   "source": [
    "elem.keys()"
   ]
  },
  {
   "cell_type": "code",
   "execution_count": null,
   "metadata": {},
   "outputs": [],
   "source": [
    "elem.items()"
   ]
  },
  {
   "cell_type": "code",
   "execution_count": null,
   "metadata": {},
   "outputs": [],
   "source": [
    "# すべての要素にアクセス\n",
    "for e in elem.getiterator():\n",
    "    print(e.tag)"
   ]
  },
  {
   "cell_type": "code",
   "execution_count": null,
   "metadata": {},
   "outputs": [],
   "source": [
    "# 子要素のリストを取得(再帰的ではなく、直系の子要素のみ)\n",
    "for e in list(elem):\n",
    "    print(e.tag)"
   ]
  },
  {
   "cell_type": "code",
   "execution_count": null,
   "metadata": {},
   "outputs": [],
   "source": [
    "elem[0].keys()"
   ]
  },
  {
   "cell_type": "code",
   "execution_count": null,
   "metadata": {},
   "outputs": [],
   "source": [
    "elem[0][1][1][1][0].get(\"X\")"
   ]
  },
  {
   "cell_type": "code",
   "execution_count": null,
   "metadata": {},
   "outputs": [],
   "source": [
    "filename= \"TCGA-18-5592-01Z-00-DX1\"\n",
    "image_filename = \"/data/unagi0/kanayama/dataset/nuclei_images/Tissue_images/\" + filename + \".tif-0.png\"\n",
    "annotation_filename = \"/data/unagi0/kanayama/dataset/nuclei_images/Tissue_annotations/\" + filename + \".xml\""
   ]
  },
  {
   "cell_type": "code",
   "execution_count": null,
   "metadata": {},
   "outputs": [],
   "source": [
    "img = Image.open(image_filename)\n",
    "tree = ET.parse(annotation_filename)\n",
    "elem = tree.getroot()"
   ]
  },
  {
   "cell_type": "code",
   "execution_count": 6,
   "metadata": {},
   "outputs": [
    {
     "name": "stdout",
     "output_type": "stream",
     "text": [
      "processing  TCGA-18-5592-01Z-00-DX1\n",
      "481\n",
      "processing  TCGA-21-5784-01Z-00-DX1\n",
      "399\n",
      "processing  TCGA-21-5786-01Z-00-DX1\n",
      "441\n",
      "processing  TCGA-38-6178-01Z-00-DX1\n",
      "425\n",
      "processing  TCGA-49-4488-01Z-00-DX1\n",
      "558\n",
      "processing  TCGA-50-5931-01Z-00-DX1\n",
      "446\n",
      "processing  TCGA-A7-A13E-01Z-00-DX1\n",
      "315\n",
      "processing  TCGA-A7-A13F-01Z-00-DX1\n",
      "357\n",
      "processing  TCGA-AR-A1AK-01Z-00-DX1\n",
      "434\n",
      "processing  TCGA-AR-A1AS-01Z-00-DX1\n",
      "406\n",
      "processing  TCGA-AY-A8YK-01A-01-TS1\n",
      "364\n",
      "processing  TCGA-B0-5698-01Z-00-DX1\n",
      "358\n",
      "processing  TCGA-B0-5710-01Z-00-DX1\n",
      "360\n",
      "processing  TCGA-B0-5711-01Z-00-DX1\n",
      "343\n",
      "omit!!!\n",
      "processing  TCGA-DK-A2I6-01A-01-TS1\n",
      "343\n",
      "processing  TCGA-E2-A14V-01Z-00-DX1\n",
      "379\n",
      "omit!!!\n",
      "processing  TCGA-G2-A2EK-01A-02-TSB\n",
      "402\n",
      "omit!!!\n",
      "omit!!!\n",
      "processing  TCGA-G9-6356-01Z-00-DX1\n",
      "443\n",
      "processing  TCGA-G9-6362-01Z-00-DX1\n",
      "473\n",
      "omit!!!\n",
      "omit!!!\n",
      "omit!!!\n",
      "omit!!!\n",
      "processing  TCGA-KB-A93J-01A-01-TS1\n",
      "1392\n",
      "processing  TCGA-NH-A8F7-01A-01-TS1\n",
      "364\n",
      "processing  TCGA-RD-A8N9-01A-01-TS1\n",
      "1166\n"
     ]
    }
   ],
   "source": [
    "# mask画像の生成\n",
    "path = \"/data/unagi0/kanayama/dataset/nuclei_images/\"\n",
    "\n",
    "omit_list = [\"TCGA-CH-5767-01Z-00-DX1\",\n",
    "                     \"TCGA-E2-A1B5-01Z-00-DX1\", \n",
    "                     \"TCGA-G9-6336-01Z-00-DX1\",\n",
    "                     \"TCGA-G9-6348-01Z-00-DX1\",\n",
    "                     \"TCGA-G9-6363-01Z-00-DX1\",\n",
    "                     \"TCGA-HE-7128-01Z-00-DX1\",\n",
    "                     \"TCGA-HE-7129-01Z-00-DX1\",\n",
    "                     \"TCGA-HE-7130-01Z-00-DX1\"]\n",
    "\n",
    "for fn in os.listdir(path + \"Tissue_annotations/\"):\n",
    "    filename = fn.split(\".\")[0]\n",
    "    if filename in omit_list:\n",
    "        print(\"omit!!!\")\n",
    "        continue\n",
    "        \n",
    "    print(\"processing \", filename)\n",
    "    image_filename = path + \"Tissue_images/\" + filename +  \".tif-0.png\"\n",
    "    image_filename2 = path + \"Tissue_images/\" + filename +  \".tiff.png\"\n",
    "    annotation_filename = path + \"Tissue_annotations/\" + filename +  \".xml\"\n",
    "    save_mask_filename = path + \"stage1_train_default/masks/\" + image_filename.split(\"/\")[-1]\n",
    "    save_edge_filename = path + \"stage1_train_default/edges/\" + image_filename.split(\"/\")[-1]\n",
    "    try:\n",
    "        img = Image.open(image_filename)\n",
    "    except FileNotFoundError:\n",
    "        img = Image.open(image_filename2)\n",
    "        #continue\n",
    "        \n",
    "    tree = ET.parse(annotation_filename)\n",
    "    elem = tree.getroot()\n",
    "\n",
    "    mask = np.zeros(img.size).astype(np.uint8)\n",
    "    edge = np.zeros(img.size).astype(np.uint8)\n",
    "    \n",
    "    #print(len(elem[0][1]))\n",
    "    for nuclei in elem[0][1]:\n",
    "        edge_one = np.ones(img.size).astype(np.uint8) * 255\n",
    "        for one_dot in nuclei[1]:\n",
    "            x = int(float(one_dot.get(\"X\"))) - 1\n",
    "            y = int(float(one_dot.get(\"Y\"))) - 1\n",
    "            try:\n",
    "                edge_one[y][x] = 0\n",
    "            except IndexError:\n",
    "                pass\n",
    "            \n",
    "        edge_one_erode = cv2.erode(edge_one, np.ones((5, 5)), iterations = 1)\n",
    "        mask_one, num = morphology.label(edge_one_erode, neighbors=4, return_num=True)\n",
    "        mask = np.logical_or(mask, (mask_one >= 2))\n",
    "        mask = np.logical_and(mask, edge_one)\n",
    "        edge = np.logical_or(edge, 255 - edge_one)\n",
    "        edge = np.logical_and(edge, (mask_one < 2))\n",
    "        \n",
    "    mask = Image.fromarray(mask.astype(np.uint8) * 255)\n",
    "    mask.save(save_mask_filename)\n",
    "    #edge = Image.fromarray(edge.astype(np.uint8) * 255)\n",
    "    edge = Image.fromarray(np.zeros(edge.shape).astype(np.uint8)) #edgeは真っ黒\n",
    "    edge.save(save_edge_filename)"
   ]
  },
  {
   "cell_type": "code",
   "execution_count": null,
   "metadata": {},
   "outputs": [],
   "source": [
    "Image.fromarray(mask.astype(np.uint8) * 255)"
   ]
  },
  {
   "cell_type": "code",
   "execution_count": null,
   "metadata": {},
   "outputs": [],
   "source": [
    "Image.fromarray(mask.astype(np.uint8) * 255)"
   ]
  },
  {
   "cell_type": "code",
   "execution_count": null,
   "metadata": {},
   "outputs": [],
   "source": [
    "mask_one = np.ones(img.size).astype(np.uint8) * 255\n",
    "for one_dot in elem[0][1][4][1]:\n",
    "        x = int(float(one_dot.get(\"X\"))) - 1\n",
    "        y = int(float(one_dot.get(\"Y\"))) - 1\n",
    "        mask_one[y][x] = 0\n",
    "mask_one = morphology.label(mask_one, neighbors=4, background=1)"
   ]
  },
  {
   "cell_type": "code",
   "execution_count": null,
   "metadata": {},
   "outputs": [],
   "source": [
    "np.unique(mask_one, return_index=True)"
   ]
  },
  {
   "cell_type": "code",
   "execution_count": null,
   "metadata": {},
   "outputs": [],
   "source": [
    "Image.fromarray((mask_one == 1).astype(np.uint8) * 255)"
   ]
  },
  {
   "cell_type": "code",
   "execution_count": null,
   "metadata": {},
   "outputs": [],
   "source": [
    "Image.open(\"/data/unagi0/kanayama/dataset/nuclei_images/Tissue_annotations/TCGA-18-5592-01Z-00-DX1.png\")"
   ]
  },
  {
   "cell_type": "code",
   "execution_count": null,
   "metadata": {},
   "outputs": [],
   "source": [
    "filename= \"TCGA-18-5592-01Z-00-DX1\"\n",
    "image_filename = \"/data/unagi0/kanayama/dataset/nuclei_images/Tissue_images/\" + filename + \".tif-0.png\"\n",
    "annotation_filename = \"/data/unagi0/kanayama/dataset/nuclei_images/Tissue_annotations/\" + filename + \".xml\"\n",
    "Image.open( \"/data/unagi0/kanayama/dataset/nuclei_images/Tissue_annotations/\" + filename + \".png\")"
   ]
  }
 ],
 "metadata": {
  "kernelspec": {
   "display_name": "Python 3",
   "language": "python",
   "name": "python3"
  },
  "language_info": {
   "codemirror_mode": {
    "name": "ipython",
    "version": 3
   },
   "file_extension": ".py",
   "mimetype": "text/x-python",
   "name": "python",
   "nbconvert_exporter": "python",
   "pygments_lexer": "ipython3",
   "version": "3.6.4"
  }
 },
 "nbformat": 4,
 "nbformat_minor": 2
}
