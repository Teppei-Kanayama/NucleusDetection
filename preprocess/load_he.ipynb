{
 "cells": [
  {
   "cell_type": "code",
   "execution_count": 16,
   "metadata": {},
   "outputs": [],
   "source": [
    "import numpy as np\n",
    "from PIL import Image\n",
    "import os\n",
    "import cv2\n",
    "import shutil"
   ]
  },
  {
   "cell_type": "code",
   "execution_count": 6,
   "metadata": {},
   "outputs": [],
   "source": [
    "data_path = \"/data/unagi0/kanayama/dataset/nuclei_images/TNBC_NucleiSegmentation/\"\n",
    "dst_path = \"/data/unagi0/kanayama/dataset/nuclei_images/stage1_train_default/\""
   ]
  },
  {
   "cell_type": "code",
   "execution_count": 12,
   "metadata": {},
   "outputs": [
    {
     "name": "stdout",
     "output_type": "stream",
     "text": [
      "01_1.png\n",
      "01_1.png\n",
      "01_2.png\n",
      "01_2.png\n",
      "01_3.png\n",
      "01_3.png\n",
      "01_4.png\n",
      "01_4.png\n",
      "01_5.png\n",
      "01_5.png\n",
      "01_6.png\n",
      "01_6.png\n",
      "01_7.png\n",
      "01_7.png\n",
      "02_1.png\n",
      "02_1.png\n",
      "02_2.png\n",
      "02_2.png\n",
      "02_3.png\n",
      "02_3.png\n",
      "03_1.png\n",
      "03_1.png\n",
      "03_2.png\n",
      "03_2.png\n",
      "03_3.png\n",
      "03_3.png\n",
      "03_4.png\n",
      "03_4.png\n",
      "03_5.png\n",
      "03_5.png\n",
      "04_1.png\n",
      "04_1.png\n",
      "04_2.png\n",
      "04_2.png\n",
      "04_3.png\n",
      "04_3.png\n",
      "04_4.png\n",
      "04_4.png\n",
      "04_5.png\n",
      "04_5.png\n",
      "04_6.png\n",
      "04_6.png\n",
      "04_7.png\n",
      "04_7.png\n",
      "04_8.png\n",
      "04_8.png\n",
      "05_1.png\n",
      "05_1.png\n",
      "05_2.png\n",
      "05_2.png\n",
      "05_3.png\n",
      "05_3.png\n",
      "05_4.png\n",
      "05_4.png\n",
      "06_1.png\n",
      "06_1.png\n",
      "06_2.png\n",
      "06_2.png\n",
      "06_3.png\n",
      "06_3.png\n",
      "07_1.png\n",
      "07_1.png\n",
      "07_2.png\n",
      "07_2.png\n",
      "07_3.png\n",
      "07_3.png\n",
      "08_1.png\n",
      "08_1.png\n",
      "08_2.png\n",
      "08_2.png\n",
      "08_3.png\n",
      "08_3.png\n",
      "08_4.png\n",
      "08_4.png\n",
      "09_1.png\n",
      "09_1.png\n",
      "09_2.png\n",
      "09_2.png\n",
      "09_3.png\n",
      "09_3.png\n",
      "09_4.png\n",
      "09_4.png\n",
      "09_5.png\n",
      "09_5.png\n",
      "09_6.png\n",
      "09_6.png\n",
      "10_1.png\n",
      "10_1.png\n",
      "10_2.png\n",
      "10_2.png\n",
      "10_3.png\n",
      "10_3.png\n",
      "10_4.png\n",
      "10_4.png\n",
      "11_1.png\n",
      "11_1.png\n",
      "11_2.png\n",
      "11_2.png\n",
      "11_3.png\n",
      "11_3.png\n",
      "01_1.png\n",
      "01_2.png\n",
      "01_3.png\n",
      "01_4.png\n",
      "01_5.png\n",
      "01_6.png\n",
      "01_7.png\n",
      "02_1.png\n",
      "02_2.png\n",
      "02_3.png\n",
      "03_1.png\n",
      "03_2.png\n",
      "03_3.png\n",
      "03_4.png\n",
      "03_5.png\n",
      "04_1.png\n",
      "04_2.png\n",
      "04_3.png\n",
      "04_4.png\n",
      "04_5.png\n",
      "04_6.png\n",
      "04_7.png\n",
      "04_8.png\n",
      "05_1.png\n",
      "05_2.png\n",
      "05_3.png\n",
      "05_4.png\n",
      "06_1.png\n",
      "06_2.png\n",
      "06_3.png\n",
      "07_1.png\n",
      "07_2.png\n",
      "07_3.png\n",
      "08_1.png\n",
      "08_2.png\n",
      "08_3.png\n",
      "08_4.png\n",
      "09_1.png\n",
      "09_2.png\n",
      "09_3.png\n",
      "09_4.png\n",
      "09_5.png\n",
      "09_6.png\n",
      "10_1.png\n",
      "10_2.png\n",
      "10_3.png\n",
      "10_4.png\n",
      "11_1.png\n",
      "11_2.png\n",
      "11_3.png\n"
     ]
    }
   ],
   "source": [
    "for dirname in os.listdir(data_path):\n",
    "    data_path2 = data_path +  dirname + \"/\"\n",
    "    for filename in os.listdir(data_path2):\n",
    "        print(filename)\n",
    "        if \"GT\" in data_path2:\n",
    "            shutil.copyfile(data_path2 + filename, dst_path + \"masks/\" + filename)\n",
    "            shutil.copyfile(data_path2 + filename, dst_path + \"edges/\" + filename)\n",
    "        elif \"Slide\" in data_path2:\n",
    "            shutil.copyfile(data_path2 + filename, dst_path + \"images/\" + filename)\n",
    "        else:\n",
    "            print(\"Else\")"
   ]
  },
  {
   "cell_type": "code",
   "execution_count": 28,
   "metadata": {},
   "outputs": [
    {
     "name": "stdout",
     "output_type": "stream",
     "text": [
      "processing  01_1.png\n",
      "processing  01_2.png\n",
      "processing  01_3.png\n",
      "processing  01_4.png\n",
      "processing  01_5.png\n",
      "processing  01_6.png\n",
      "processing  01_7.png\n",
      "processing  02_1.png\n",
      "processing  02_2.png\n",
      "processing  02_3.png\n",
      "processing  03_1.png\n",
      "processing  03_2.png\n",
      "processing  03_3.png\n",
      "processing  03_4.png\n",
      "processing  03_5.png\n",
      "processing  04_1.png\n",
      "processing  04_2.png\n",
      "processing  04_3.png\n",
      "processing  04_4.png\n",
      "processing  04_5.png\n",
      "processing  04_6.png\n",
      "processing  04_7.png\n",
      "processing  04_8.png\n",
      "processing  05_1.png\n",
      "processing  05_2.png\n",
      "processing  05_3.png\n",
      "processing  05_4.png\n",
      "processing  06_1.png\n",
      "processing  06_2.png\n",
      "processing  06_3.png\n",
      "processing  07_1.png\n",
      "processing  07_2.png\n",
      "processing  07_3.png\n",
      "processing  08_1.png\n",
      "processing  08_2.png\n",
      "processing  08_3.png\n",
      "processing  08_4.png\n",
      "processing  09_1.png\n",
      "processing  09_2.png\n",
      "processing  09_3.png\n",
      "processing  09_4.png\n",
      "processing  09_5.png\n",
      "processing  09_6.png\n",
      "processing  10_1.png\n",
      "processing  10_2.png\n",
      "processing  10_3.png\n",
      "processing  10_4.png\n",
      "processing  11_1.png\n",
      "processing  11_2.png\n",
      "processing  11_3.png\n"
     ]
    }
   ],
   "source": [
    "# edge画像を作る\n",
    "mask_path = \"/data/unagi0/kanayama/dataset/nuclei_images/stage1_train_default/masks/\"\n",
    "edge_path = \"/data/unagi0/kanayama/dataset/nuclei_images/stage1_train_default/edges/\"\n",
    "\n",
    "for filename in os.listdir(mask_path):\n",
    "    if \"_\" in filename:\n",
    "        print(\"processing \", filename)\n",
    "        img = Image.open(mask_path + filename)\n",
    "        img_array = np.asarray(img)\n",
    "        img_array_dilate = cv2.dilate(img_array, np.ones((5, 5)), iterations = 1)\n",
    "        edge_array = np.logical_and(img_array_dilate, 255 - img_array)\n",
    "        edge = Image.fromarray(edge_array.astype(np.uint8) * 255)\n",
    "        edge.save(edge_path + filename)"
   ]
  },
  {
   "cell_type": "code",
   "execution_count": 24,
   "metadata": {},
   "outputs": [
    {
     "data": {
      "text/plain": [
       "array([[255, 255, 255, ..., 255, 255, 255],\n",
       "       [255, 255, 255, ..., 255, 255, 255],\n",
       "       [255, 255, 255, ..., 255, 255, 255],\n",
       "       ...,\n",
       "       [  0,   0,   0, ..., 255, 255, 255],\n",
       "       [  0,   0,   0, ..., 255, 255, 255],\n",
       "       [  0,   0,   0, ..., 255, 255, 255]], dtype=uint8)"
      ]
     },
     "execution_count": 24,
     "metadata": {},
     "output_type": "execute_result"
    }
   ],
   "source": [
    "255 - img_array"
   ]
  },
  {
   "cell_type": "code",
   "execution_count": 25,
   "metadata": {},
   "outputs": [
    {
     "data": {
      "text/plain": [
       "array([[  0,   0,   0, ...,   0,   0,   0],\n",
       "       [  0,   0,   0, ...,   0,   0,   0],\n",
       "       [  0,   0,   0, ...,   0,   0,   0],\n",
       "       ...,\n",
       "       [255, 255, 255, ...,   0,   0,   0],\n",
       "       [255, 255, 255, ...,   0,   0,   0],\n",
       "       [255, 255, 255, ...,   0,   0,   0]], dtype=uint8)"
      ]
     },
     "execution_count": 25,
     "metadata": {},
     "output_type": "execute_result"
    }
   ],
   "source": [
    "img_array_erode"
   ]
  },
  {
   "cell_type": "code",
   "execution_count": 27,
   "metadata": {},
   "outputs": [
    {
     "data": {
      "text/plain": [
       "(512, 512)"
      ]
     },
     "execution_count": 27,
     "metadata": {},
     "output_type": "execute_result"
    }
   ],
   "source": [
    "edge_array.shape"
   ]
  },
  {
   "cell_type": "code",
   "execution_count": null,
   "metadata": {},
   "outputs": [],
   "source": []
  }
 ],
 "metadata": {
  "kernelspec": {
   "display_name": "Python 3",
   "language": "python",
   "name": "python3"
  },
  "language_info": {
   "codemirror_mode": {
    "name": "ipython",
    "version": 3
   },
   "file_extension": ".py",
   "mimetype": "text/x-python",
   "name": "python",
   "nbconvert_exporter": "python",
   "pygments_lexer": "ipython3",
   "version": "3.6.4"
  }
 },
 "nbformat": 4,
 "nbformat_minor": 2
}
