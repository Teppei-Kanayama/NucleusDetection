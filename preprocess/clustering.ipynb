{
 "cells": [
  {
   "cell_type": "code",
   "execution_count": null,
   "metadata": {},
   "outputs": [],
   "source": [
    "import scipy.cluster.hierarchy as hierarchy\n",
    "import sklearn.cluster as cl\n",
    "import numpy as np\n",
    "import matplotlib.pyplot as plt\n",
    "import cv2\n",
    "import os\n",
    "import glob"
   ]
  },
  {
   "cell_type": "code",
   "execution_count": null,
   "metadata": {},
   "outputs": [],
   "source": [
    "GRAY_STD = 0.01 #どこからグレースケール扱いするかの値"
   ]
  },
  {
   "cell_type": "code",
   "execution_count": null,
   "metadata": {},
   "outputs": [],
   "source": [
    "class Clustering:\n",
    "    __files = 0\n",
    "    __means = []\n",
    "    __stds = []\n",
    "    __clusters = []\n",
    "    __n_gray_clusters = 0\n",
    "    __n_color_clusters = 0\n",
    "    __data_num = 0\n",
    "    def __init__(self, fold_name, n_gray_clusters, n_color_clusters):\n",
    "        self.__n_gray_clusters = n_gray_clusters\n",
    "        self.__n_color_clusters = n_color_clusters\n",
    "        self.__files = glob.glob(fold_name)\n",
    "        self.__data_num = len(self.__files)#画像の個数\n",
    "        \n",
    "        gray_index = []\n",
    "        for i,file in enumerate(self.__files):#何周目か計測\n",
    "            org = cv2.imread(file)\n",
    "            redata = np.reshape( org, (-1, 3) )\n",
    "            mean = np.mean(redata, axis = 0)#画像RGBの平均をとる\n",
    "            if np.std(mean) <= GRAY_STD:\n",
    "                gray_index.append(i)\n",
    "            self.__means.append(mean)\n",
    "            self.__stds.append( np.std(redata, axis = 0) )\n",
    "        color_index = [ i for i in range(self.__data_num) if i not in gray_index]\n",
    "        \n",
    "        data = np.c_[self.__means, self.__stds]#平均と標準偏差を統合\n",
    "        \n",
    "        km_gray = cl.KMeans(n_clusters=n_gray_clusters)#グレースケールのクラスタリング\n",
    "        graydata = data[gray_index]\n",
    "        gray_clusters = km_gray.fit(graydata)\n",
    "        km_color = cl.KMeans(n_clusters=n_color_clusters)#色つきのクラスタリング\n",
    "        colordata = data[color_index]\n",
    "        color_clusters = km_color.fit(colordata)\n",
    "        gray_labels = gray_clusters.labels_\n",
    "        color_labels = list(map(lambda n:n + n_gray_clusters, color_clusters.labels_))\n",
    "        \n",
    "        self.__clusters = [-1] * self.__data_num#self.__clustersを埋める\n",
    "        for ind,lab in zip(gray_index,gray_labels):\n",
    "            self.__clusters[ind] = lab\n",
    "        for ind,lab in zip(color_index,color_labels):\n",
    "            self.__clusters[ind] = lab\n",
    "    def labels(self):\n",
    "        return self.__clusters\n",
    "    def show(self,number):\n",
    "        if number < 0 or number >= self.__n_gray_clusters + self.__n_color_clusters:\n",
    "            print(\"out of range\")\n",
    "            return\n",
    "        print(\"cluster\",number)\n",
    "        clusters = np.array(self.__clusters)\n",
    "        index = np.where(clusters == number)[0]\n",
    "        for i in index:\n",
    "            file = self.__files[i]\n",
    "            t = plt.imread(file)\n",
    "            plt.imshow(t)\n",
    "            plt.show()\n",
    "    def showAll(self):\n",
    "        for number in range(self.__n_gray_clusters + self.__n_color_clusters):\n",
    "            self.show(number)"
   ]
  },
  {
   "cell_type": "code",
   "execution_count": null,
   "metadata": {},
   "outputs": [],
   "source": [
    "output = Clustering(\"/Users/mashu/Downloads/stage1_train/*/images/*.png\", 2,2)"
   ]
  },
  {
   "cell_type": "code",
   "execution_count": null,
   "metadata": {},
   "outputs": [],
   "source": [
    "output.show(0)"
   ]
  },
  {
   "cell_type": "code",
   "execution_count": null,
   "metadata": {},
   "outputs": [],
   "source": [
    "output.show(1)"
   ]
  },
  {
   "cell_type": "code",
   "execution_count": null,
   "metadata": {},
   "outputs": [],
   "source": [
    "output.show(2)"
   ]
  },
  {
   "cell_type": "code",
   "execution_count": null,
   "metadata": {},
   "outputs": [],
   "source": [
    "output.show(3)"
   ]
  }
 ],
 "metadata": {
  "kernelspec": {
   "display_name": "Python 3",
   "language": "python",
   "name": "python3"
  },
  "language_info": {
   "codemirror_mode": {
    "name": "ipython",
    "version": 3
   },
   "file_extension": ".py",
   "mimetype": "text/x-python",
   "name": "python",
   "nbconvert_exporter": "python",
   "pygments_lexer": "ipython3",
   "version": "3.6.3"
  }
 },
 "nbformat": 4,
 "nbformat_minor": 2
}
