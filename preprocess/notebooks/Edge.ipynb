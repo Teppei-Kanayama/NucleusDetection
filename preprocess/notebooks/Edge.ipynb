{
 "cells": [
  {
   "cell_type": "code",
   "execution_count": 2,
   "metadata": {},
   "outputs": [],
   "source": [
    "import cv2\n",
    "import matplotlib.pyplot as plt\n",
    "#edge検出を行うクラス\n",
    "class EdgeDetect:\n",
    "    __edge_img = 0\n",
    "    def __init__(self,file_name):\n",
    "        org_img = cv2.imread(file_name, cv2.IMREAD_UNCHANGED)\n",
    "        gray_img = cv2.imread(file_name, cv2.IMREAD_GRAYSCALE)\n",
    "        lap= cv2.Laplacian(gray_img,cv2.CV_64F)\n",
    "        self.__edge_img = cv2.convertScaleAbs(lap)\n",
    "    def show(self):#表示\n",
    "        plt.imshow(self.__edge_img)\n",
    "        plt.gray()\n",
    "        plt.show()\n",
    "    def data(self):#変換\n",
    "        return self.__edge_img"
   ]
  }
 ],
 "metadata": {
  "kernelspec": {
   "display_name": "Python 3",
   "language": "python",
   "name": "python3"
  },
  "language_info": {
   "codemirror_mode": {
    "name": "ipython",
    "version": 3
   },
   "file_extension": ".py",
   "mimetype": "text/x-python",
   "name": "python",
   "nbconvert_exporter": "python",
   "pygments_lexer": "ipython3",
   "version": "3.6.3"
  }
 },
 "nbformat": 4,
 "nbformat_minor": 2
}
