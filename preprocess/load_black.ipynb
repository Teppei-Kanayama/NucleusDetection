{
 "cells": [
  {
   "cell_type": "code",
   "execution_count": 1,
   "metadata": {},
   "outputs": [],
   "source": [
    "import numpy as np\n",
    "from PIL import Image\n",
    "import os\n",
    "import cv2\n",
    "from load_black import contour2mono"
   ]
  },
  {
   "cell_type": "code",
   "execution_count": 2,
   "metadata": {},
   "outputs": [],
   "source": [
    "#data_path = \"/data/unagi0/kanayama/dataset/nuclei_images/segmented-lpc/gnf/\"\n",
    "data_path = \"/data/unagi0/kanayama/dataset/nuclei_images/segmented-lpc/ic100/\""
   ]
  },
  {
   "cell_type": "code",
   "execution_count": null,
   "metadata": {},
   "outputs": [
    {
     "name": "stdout",
     "output_type": "stream",
     "text": [
      "dna-0-0.png\n",
      "dna-0-1.png\n",
      "dna-1-0.png\n",
      "dna-1-1.png\n",
      "dna-10-0.png\n",
      "dna-10-1.png\n",
      "dna-11-0.png\n",
      "dna-11-1.png\n",
      "dna-12-0.png\n",
      "dna-12-1.png\n",
      "dna-13-0.png\n",
      "dna-13-1.png\n",
      "dna-14-0.png\n",
      "dna-14-1.png\n",
      "dna-15-0.png\n",
      "dna-15-1.png\n",
      "dna-16-0.png\n",
      "dna-16-1.png\n",
      "dna-17-0.png\n",
      "dna-17-1.png\n",
      "dna-18-0.png\n",
      "dna-18-1.png\n",
      "dna-19-0.png\n",
      "dna-19-1.png\n",
      "dna-2-0.png\n",
      "dna-2-1.png\n",
      "dna-20-0.png\n",
      "dna-20-1.png\n",
      "dna-21-0.png\n",
      "dna-21-1.png\n",
      "dna-22-0.png\n",
      "dna-22-1.png\n",
      "dna-23-0.png\n",
      "dna-23-1.png\n",
      "dna-24-0.png\n",
      "dna-24-1.png\n",
      "dna-26-0.png\n",
      "dna-26-1.png\n",
      "dna-27-0.png\n",
      "dna-27-1.png\n",
      "dna-28-0.png\n",
      "dna-28-1.png\n",
      "dna-29-0.png\n",
      "dna-29-1.png\n",
      "dna-3-0.png\n",
      "dna-3-1.png\n",
      "dna-30-0.png\n",
      "dna-30-1.png\n",
      "dna-31-0.png\n",
      "dna-31-1.png\n"
     ]
    }
   ],
   "source": [
    "output_path = \"/data/unagi0/kanayama/dataset/nuclei_images/stage1_train_default/\"\n",
    "for filename in os.listdir(data_path):\n",
    "    if \"-1.png\" in filename:\n",
    "        print(filename)\n",
    "        img = cv2.imread(data_path + filename)\n",
    "        edge = img[:, :, 2]\n",
    "        mask = contour2mono(img)\n",
    "        \n",
    "        img = Image.fromarray(img)\n",
    "        edge = Image.fromarray(edge)\n",
    "        mask = Image.fromarray(mask)\n",
    "        \n",
    "        edge.save(output_path + \"edges/ic100\" + filename.split(\"dna\")[1])\n",
    "        mask.save(output_path + \"masks/ic100\" + filename.split(\"dna\")[1])\n",
    "\n",
    "    elif \"-0.png\" in filename:\n",
    "        print(filename)\n",
    "        img = Image.open(data_path + filename)\n",
    "        img.save(output_path +  \"images/ic100\" + filename.split(\"dna\")[1])"
   ]
  },
  {
   "cell_type": "code",
   "execution_count": null,
   "metadata": {},
   "outputs": [],
   "source": [
    "filename.split(\"dna\")[1]"
   ]
  },
  {
   "cell_type": "code",
   "execution_count": null,
   "metadata": {},
   "outputs": [],
   "source": [
    "data = data_path + \"dna-1-1.png\""
   ]
  },
  {
   "cell_type": "code",
   "execution_count": null,
   "metadata": {},
   "outputs": [],
   "source": [
    "img = cv2.imread(data)"
   ]
  },
  {
   "cell_type": "code",
   "execution_count": null,
   "metadata": {},
   "outputs": [],
   "source": [
    "img[:, :, 2].sum() / 255"
   ]
  },
  {
   "cell_type": "code",
   "execution_count": null,
   "metadata": {},
   "outputs": [],
   "source": [
    "Image.fromarray(img)"
   ]
  },
  {
   "cell_type": "code",
   "execution_count": null,
   "metadata": {},
   "outputs": [],
   "source": [
    "type(img)"
   ]
  },
  {
   "cell_type": "code",
   "execution_count": null,
   "metadata": {},
   "outputs": [],
   "source": [
    "output = contour2mono(img)"
   ]
  },
  {
   "cell_type": "code",
   "execution_count": null,
   "metadata": {},
   "outputs": [],
   "source": [
    "output"
   ]
  },
  {
   "cell_type": "code",
   "execution_count": null,
   "metadata": {},
   "outputs": [],
   "source": [
    "Image.fromarray(output)"
   ]
  },
  {
   "cell_type": "code",
   "execution_count": null,
   "metadata": {},
   "outputs": [],
   "source": []
  }
 ],
 "metadata": {
  "kernelspec": {
   "display_name": "Python 3",
   "language": "python",
   "name": "python3"
  },
  "language_info": {
   "codemirror_mode": {
    "name": "ipython",
    "version": 3
   },
   "file_extension": ".py",
   "mimetype": "text/x-python",
   "name": "python",
   "nbconvert_exporter": "python",
   "pygments_lexer": "ipython3",
   "version": "3.6.4"
  }
 },
 "nbformat": 4,
 "nbformat_minor": 2
}
