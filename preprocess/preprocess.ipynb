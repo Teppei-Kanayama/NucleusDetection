{
 "cells": [
  {
   "cell_type": "code",
   "execution_count": 1,
   "metadata": {},
   "outputs": [],
   "source": [
    "import numpy as np\n",
    "from PIL import Image\n",
    "import os"
   ]
  },
  {
   "cell_type": "code",
   "execution_count": null,
   "metadata": {},
   "outputs": [],
   "source": [
    "SIZE = (640, 640)"
   ]
  },
  {
   "cell_type": "code",
   "execution_count": null,
   "metadata": {},
   "outputs": [],
   "source": [
    "im1 = Image.open(\"/data/unagi0/kanayama/dataset/nuclei_images/stage1_train/ff599c7301daa1f783924ac8cbe3ce7b42878f15a39c2d19659189951f540f48/masks/08494db6e5b0530016ddbeef356019290c1358b10caed7c25ba2302294210e18.png\")"
   ]
  },
  {
   "cell_type": "code",
   "execution_count": null,
   "metadata": {},
   "outputs": [],
   "source": [
    "im2 =  Image.open(\"/data/unagi0/kanayama/dataset/nuclei_images/stage1_train/ff599c7301daa1f783924ac8cbe3ce7b42878f15a39c2d19659189951f540f48/masks/099877c5aee6ec1d47c97b2b4caea340d751b03dbe93cf0192a105fe394831d2.png\")"
   ]
  },
  {
   "cell_type": "code",
   "execution_count": null,
   "metadata": {},
   "outputs": [],
   "source": [
    "im1 = np.asarray(im1)\n",
    "im2 = np.asarray(im2)"
   ]
  },
  {
   "cell_type": "code",
   "execution_count": null,
   "metadata": {},
   "outputs": [],
   "source": [
    "im1 = (im1 == 255)\n",
    "im2 = (im2 == 255)"
   ]
  },
  {
   "cell_type": "code",
   "execution_count": null,
   "metadata": {},
   "outputs": [],
   "source": [
    "im = np.logical_or(im1, im2)"
   ]
  },
  {
   "cell_type": "code",
   "execution_count": null,
   "metadata": {},
   "outputs": [],
   "source": [
    "im = im.astype(np.uint8) * 255"
   ]
  },
  {
   "cell_type": "code",
   "execution_count": null,
   "metadata": {},
   "outputs": [],
   "source": [
    "Image.fromarray(im)"
   ]
  },
  {
   "cell_type": "code",
   "execution_count": null,
   "metadata": {},
   "outputs": [],
   "source": [
    "os.listdir('/data/unagi0/kanayama/dataset/nuclei_images/stage1_train/')"
   ]
  },
  {
   "cell_type": "code",
   "execution_count": 6,
   "metadata": {},
   "outputs": [],
   "source": [
    "#imagesのpre-process\n",
    "TRAIN_PATH = '/data/unagi0/kanayama/dataset/nuclei_images/stage1_train/'\n",
    "DST_PATH =  '/data/unagi0/kanayama/dataset/nuclei_images/stage1_train_default/'\n",
    "\n",
    "SIZE = (640, 640)\n",
    "for dirname in os.listdir(TRAIN_PATH):\n",
    "        im = Image.open(TRAIN_PATH + dirname + '/images/' + dirname + '.png')\n",
    "        #im = im.resize(SIZE)\n",
    "        im.save(DST_PATH + 'images/' + dirname + '.png', \"png\")"
   ]
  },
  {
   "cell_type": "code",
   "execution_count": null,
   "metadata": {},
   "outputs": [],
   "source": [
    "#imagesのpre-process（白黒のみとcolorを分ける）\n",
    "TRAIN_PATH = '/data/unagi0/kanayama/dataset/nuclei_images/stage1_train/'\n",
    "GRAY_PATH =  '/data/unagi0/kanayama/dataset/nuclei_images/stage1_train_default_gray/'\n",
    "COLOR_PATH =  '/data/unagi0/kanayama/dataset/nuclei_images/stage1_train_default_color/'\n",
    "THRESH = 10\n",
    "\n",
    "SIZE = (640, 640)\n",
    "for dirname in os.listdir(TRAIN_PATH):\n",
    "        im = Image.open(TRAIN_PATH + dirname + '/images/' + dirname + '.png')\n",
    "        #im = im.resize(SIZE)\n",
    "        im_array = np.asarray(im)\n",
    "        if (im_array[:, :, 1] - im_array[:, :, 2]).sum() ** 2 <  THRESH:\n",
    "            im.save(GRAY_PATH + 'images/' + dirname + '.png', \"png\")\n",
    "        else:\n",
    "            im.save(COLOR_PATH + 'images/' + dirname + '.png', \"png\")"
   ]
  },
  {
   "cell_type": "code",
   "execution_count": 5,
   "metadata": {},
   "outputs": [],
   "source": [
    "#maskのpre-process\n",
    "TRAIN_PATH = '/data/unagi0/kanayama/dataset/nuclei_images/stage1_train/'\n",
    "DST_PATH =  '/data/unagi0/kanayama/dataset/nuclei_images/stage1_train_default/'\n",
    "\n",
    "#SIZE = (640, 640)\n",
    "for dirname in os.listdir(TRAIN_PATH):\n",
    "        # 空の行列を作るために、最初の1個だけ見ておく\n",
    "        filename_one = os.listdir(TRAIN_PATH + dirname + '/masks/')[0]\n",
    "        im = Image.open(TRAIN_PATH + dirname + '/masks/' + filename_one)\n",
    "        size = im.size\n",
    "        tmp = np.full((size[1], size[0]), False, dtype=bool)\n",
    "        \n",
    "        for filename in os.listdir(TRAIN_PATH + dirname + '/masks/'):\n",
    "            im = Image.open(TRAIN_PATH + dirname + '/masks/' + filename)\n",
    "            #im = im.resize(SIZE)\n",
    "            im = np.asarray(im)\n",
    "            im = (im == 255)\n",
    "            tmp = np.logical_or(tmp, im)\n",
    "        im = tmp.astype(np.uint8) * 255\n",
    "        im = Image.fromarray(im)\n",
    "        im.save(DST_PATH + 'masks/' + dirname + '.png', \"png\")"
   ]
  },
  {
   "cell_type": "code",
   "execution_count": null,
   "metadata": {},
   "outputs": [],
   "source": [
    "#test imagesのpre-process\n",
    "TEST_PATH = '/data/unagi0/kanayama/dataset/nuclei_images/stage1_test/'\n",
    "DST_PATH =  '/data/unagi0/kanayama/dataset/nuclei_images/stage1_test_preprocessed/'\n",
    "\n",
    "SIZE = (640, 640)\n",
    "for dirname in os.listdir(TEST_PATH):\n",
    "        im = Image.open(TEST_PATH + dirname + '/images/' + dirname + '.png')\n",
    "        im = im.resize(SIZE)\n",
    "        im.save(DST_PATH + 'images/' + dirname + '.png', \"png\")"
   ]
  }
 ],
 "metadata": {
  "kernelspec": {
   "display_name": "Python 3",
   "language": "python",
   "name": "python3"
  },
  "language_info": {
   "codemirror_mode": {
    "name": "ipython",
    "version": 3
   },
   "file_extension": ".py",
   "mimetype": "text/x-python",
   "name": "python",
   "nbconvert_exporter": "python",
   "pygments_lexer": "ipython3",
   "version": "3.6.4"
  }
 },
 "nbformat": 4,
 "nbformat_minor": 2
}
