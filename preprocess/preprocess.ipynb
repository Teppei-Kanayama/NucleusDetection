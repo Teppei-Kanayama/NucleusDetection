{
 "cells": [
  {
   "cell_type": "code",
   "execution_count": 1,
   "metadata": {},
   "outputs": [],
   "source": [
    "import numpy as np\n",
    "from PIL import Image\n",
    "import os\n",
    "import cv2\n",
    "from imagetype_classification import imagetype_classification"
   ]
  },
  {
   "cell_type": "code",
   "execution_count": null,
   "metadata": {},
   "outputs": [],
   "source": [
    "#imagesのpre-process\n",
    "TRAIN_PATH = '/data/unagi0/kanayama/dataset/nuclei_images/stage1_train/'\n",
    "DST_PATH =  '/data/unagi0/kanayama/dataset/nuclei_images/stage1_train_default/'\n",
    "\n",
    "SIZE = (640, 640)\n",
    "for dirname in os.listdir(TRAIN_PATH):\n",
    "        im = Image.open(TRAIN_PATH + dirname + '/images/' + dirname + '.png')\n",
    "        im.save(DST_PATH + 'images/' + dirname + '.png', \"png\")"
   ]
  },
  {
   "cell_type": "code",
   "execution_count": null,
   "metadata": {},
   "outputs": [],
   "source": [
    "#imagesのpre-process（白黒のみとcolorを分ける）\n",
    "TRAIN_PATH = '/data/unagi0/kanayama/dataset/nuclei_images/stage1_train/'\n",
    "GRAY_PATH =  '/data/unagi0/kanayama/dataset/nuclei_images/stage1_train_default_gray/'\n",
    "COLOR_PATH =  '/data/unagi0/kanayama/dataset/nuclei_images/stage1_train_default_color/'\n",
    "THRESH = 10\n",
    "\n",
    "for dirname in os.listdir(TRAIN_PATH):\n",
    "        im = Image.open(TRAIN_PATH + dirname + '/images/' + dirname + '.png')\n",
    "        im_array = np.asarray(im)\n",
    "        if (im_array[:, :, 1] - im_array[:, :, 2]).sum() ** 2 <  THRESH:\n",
    "            im.save(GRAY_PATH + 'images/' + dirname + '.png', \"png\")\n",
    "        else:\n",
    "            im.save(COLOR_PATH + 'images/' + dirname + '.png', \"png\")"
   ]
  },
  {
   "cell_type": "code",
   "execution_count": null,
   "metadata": {},
   "outputs": [],
   "source": [
    "#maskのpre-process\n",
    "TRAIN_PATH = '/data/unagi0/kanayama/dataset/nuclei_images/stage1_train/'\n",
    "DST_PATH =  '/data/unagi0/kanayama/dataset/nuclei_images/stage1_train_default/'\n",
    "\n",
    "#SIZE = (640, 640)\n",
    "for dirname in os.listdir(TRAIN_PATH):\n",
    "        # 空の行列を作るために、最初の1個だけ見ておく\n",
    "        filename_one = os.listdir(TRAIN_PATH + dirname + '/masks/')[0]\n",
    "        im = Image.open(TRAIN_PATH + dirname + '/masks/' + filename_one)\n",
    "        size = im.size\n",
    "        tmp = np.full((size[1], size[0]), False, dtype=bool)\n",
    "        \n",
    "        for filename in os.listdir(TRAIN_PATH + dirname + '/masks/'):\n",
    "            im = Image.open(TRAIN_PATH + dirname + '/masks/' + filename)\n",
    "            im = np.asarray(im)\n",
    "            im = (im == 255)\n",
    "            tmp = np.logical_or(tmp, im)\n",
    "        im = tmp.astype(np.uint8) * 255\n",
    "        im = Image.fromarray(im)\n",
    "        im.save(DST_PATH + 'masks/' + dirname + '.png', \"png\")"
   ]
  },
  {
   "cell_type": "code",
   "execution_count": null,
   "metadata": {},
   "outputs": [],
   "source": [
    "#test imagesのpre-process\n",
    "TEST_PATH = '/data/unagi0/kanayama/dataset/nuclei_images/stage1_test/'\n",
    "DST_PATH =  '/data/unagi0/kanayama/dataset/nuclei_images/stage1_test_preprocessed/'\n",
    "\n",
    "SIZE = (640, 640)\n",
    "for dirname in os.listdir(TEST_PATH):\n",
    "        im = Image.open(TEST_PATH + dirname + '/images/' + dirname + '.png')\n",
    "        im = im.resize(SIZE)\n",
    "        im.save(DST_PATH + 'images/' + dirname + '.png', \"png\")"
   ]
  },
  {
   "cell_type": "code",
   "execution_count": null,
   "metadata": {},
   "outputs": [],
   "source": [
    "# maskのpre-process（膨張処理により、わずかに輪郭を描く）\n",
    "TRAIN_PATH = '/data/unagi0/kanayama/dataset/nuclei_images/stage1_train/'\n",
    "DST_PATH =  '/data/unagi0/kanayama/dataset/nuclei_images/stage1_train_default/'\n",
    "\n",
    "for dirname in os.listdir(TRAIN_PATH):\n",
    "        # 空の行列を作るために、最初の1個だけ見ておく\n",
    "        filename_one = os.listdir(TRAIN_PATH + dirname + '/masks/')[0]\n",
    "        im = Image.open(TRAIN_PATH + dirname + '/masks/' + filename_one)\n",
    "        size = im.size\n",
    "        tmp = np.full((size[1], size[0]), False, dtype=bool)\n",
    "        \n",
    "        for filename in os.listdir(TRAIN_PATH + dirname + '/masks/'):\n",
    "            im = Image.open(TRAIN_PATH + dirname + '/masks/' + filename)\n",
    "            im = np.asarray(im)\n",
    "            # 微妙に膨張させる\n",
    "            im_large = cv2.dilate(im, np.ones((5,5),np.uint8), iterations = 1)\n",
    "            im_large_bool = (im_large == 0)\n",
    "            im_bool = (im == 255)            \n",
    "            tmp = np.logical_and(im_large_bool, tmp)\n",
    "            tmp = np.logical_or(tmp, im_bool)\n",
    "\n",
    "        im = tmp.astype(np.uint8) * 255\n",
    "        im = Image.fromarray(im)\n",
    "        im.save(DST_PATH + 'masks/' + dirname + '.png', \"png\")"
   ]
  },
  {
   "cell_type": "code",
   "execution_count": null,
   "metadata": {},
   "outputs": [],
   "source": [
    "# 染色方法ごとに画像を分類して保存（train）\n",
    "IMAGE_PATH =  '/data/unagi0/kanayama/dataset/nuclei_images/stage1_train_default/images/'\n",
    "DST_PATH = '/data/unagi0/kanayama/dataset/nuclei_images/stage1_train_default'\n",
    "for image_name in os.listdir(IMAGE_PATH):\n",
    "    imagetype = imagetype_classification(IMAGE_PATH + image_name)\n",
    "    im = Image.open(IMAGE_PATH + image_name)\n",
    "    \n",
    "    file_path = DST_PATH + str(imagetype) + '/images/'\n",
    "    if not os.path.exists(file_path):\n",
    "        os.makedirs(file_path)\n",
    "    im.save(file_path + image_name)"
   ]
  },
  {
   "cell_type": "code",
   "execution_count": null,
   "metadata": {},
   "outputs": [],
   "source": [
    "# edge の抽出\n",
    "TRAIN_PATH = '/data/unagi0/kanayama/dataset/nuclei_images/stage1_train/'\n",
    "DST_PATH = '/data/unagi0/kanayama/dataset/nuclei_images/stage1_train_default/'\n",
    "\n",
    "for dirname in os.listdir(TRAIN_PATH):\n",
    "        # 空の行列を作るために、最初の1個だけ見ておく\n",
    "        filename_one = os.listdir(TRAIN_PATH + dirname + '/masks/')[0]\n",
    "        im = Image.open(TRAIN_PATH + dirname + '/masks/' + filename_one)\n",
    "        size = im.size\n",
    "        tmp = np.full((size[1], size[0]), False, dtype=bool)\n",
    "        \n",
    "        for filename in os.listdir(TRAIN_PATH + dirname + '/masks/'):\n",
    "            im = Image.open(TRAIN_PATH + dirname + '/masks/' + filename)\n",
    "            im = np.asarray(im)\n",
    "            # 微妙に膨張させる\n",
    "            im_large = cv2.dilate(im, np.ones((5,5),np.uint8), iterations = 1)\n",
    "            im_large_bool = (im_large == 255)\n",
    "            im_bool = (im == 0)            \n",
    "            tmp = np.logical_or(im_large_bool, tmp)\n",
    "            tmp = np.logical_and(tmp, im_bool)\n",
    "\n",
    "        im = tmp.astype(np.uint8) * 255\n",
    "        im = Image.fromarray(im)\n",
    "        im.save(DST_PATH + 'edges/' + dirname + '.png', \"png\")"
   ]
  },
  {
   "cell_type": "code",
   "execution_count": 60,
   "metadata": {},
   "outputs": [],
   "source": [
    "#imagesのpre-process（白黒のみとcolorを分け、colorは上手くモノクロに変換して入れる。）\n",
    "TRAIN_PATH = '/data/unagi0/kanayama/dataset/nuclei_images/stage1_train/'\n",
    "GRAY_PATH =  '/data/unagi0/kanayama/dataset/nuclei_images/stage1_train_default_gray/'\n",
    "THRESH = 10\n",
    "\n",
    "for dirname in os.listdir(TRAIN_PATH):\n",
    "        im = Image.open(TRAIN_PATH + dirname + '/images/' + dirname + '.png')\n",
    "        im_array = np.asarray(im)\n",
    "        if (im_array[:, :, 1] - im_array[:, :, 2]).sum() ** 2 <  THRESH:  # 白黒\n",
    "            im.save(GRAY_PATH + 'images/' + dirname + '.png', \"png\")\n",
    "        else:  # カラー\n",
    "            im_gray = (im_array[:, :, 0] / 2 + im_array[:, :, 1] / 4 + im_array[:, :, 2] / 4)  # 赤に少し重み付けしてモノクロ化\n",
    "            im_gray = np.broadcast_to(im_gray, (3, im_gray.shape[0], im_gray.shape[1]))\n",
    "            im_gray = 255 - im_gray.transpose((1, 2, 0)).astype(np.uint8)  # 白黒反転\n",
    "            im_gray = Image.fromarray(im_gray)\n",
    "            im_gray.save(GRAY_PATH + 'images/' + dirname + '.png', \"png\")"
   ]
  },
  {
   "cell_type": "code",
   "execution_count": 13,
   "metadata": {},
   "outputs": [],
   "source": [
    "#imagesのpre-process（白黒のみとcolorを分け、白黒は反転させて入れる。）\n",
    "TRAIN_PATH = '/data/unagi0/kanayama/dataset/nuclei_images/stage1_train/'\n",
    "COLOR_PATH =  '/data/unagi0/kanayama/dataset/nuclei_images/stage1_train_default_color/'\n",
    "THRESH = 10\n",
    "\n",
    "for dirname in os.listdir(TRAIN_PATH):\n",
    "        im = Image.open(TRAIN_PATH + dirname + '/images/' + dirname + '.png')\n",
    "        im_array = np.asarray(im)\n",
    "        if (im_array[:, :, 1] - im_array[:, :, 2]).sum() ** 2 <  THRESH:\n",
    "            im_reverse_array = 255 - im_array[:, :, :3]  # alpha channelを除く\n",
    "            im_reverse = Image.fromarray(im_reverse_array)\n",
    "            im_reverse.save(COLOR_PATH + 'images/' + dirname + '.png', \"png\")\n",
    "        else:\n",
    "            im.save(COLOR_PATH + 'images/' + dirname + '.png', \"png\")"
   ]
  }
 ],
 "metadata": {
  "kernelspec": {
   "display_name": "Python 3",
   "language": "python",
   "name": "python3"
  },
  "language_info": {
   "codemirror_mode": {
    "name": "ipython",
    "version": 3
   },
   "file_extension": ".py",
   "mimetype": "text/x-python",
   "name": "python",
   "nbconvert_exporter": "python",
   "pygments_lexer": "ipython3",
   "version": "3.6.4"
  }
 },
 "nbformat": 4,
 "nbformat_minor": 2
}
