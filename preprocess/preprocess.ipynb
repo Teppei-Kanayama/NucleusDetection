{
 "cells": [
  {
   "cell_type": "code",
   "execution_count": 64,
   "metadata": {},
   "outputs": [],
   "source": [
    "import numpy as np\n",
    "from PIL import Image\n",
    "import os\n",
    "import cv2"
   ]
  },
  {
   "cell_type": "code",
   "execution_count": 105,
   "metadata": {},
   "outputs": [],
   "source": [
    "im1 = Image.open(\"/data/unagi0/kanayama/dataset/nuclei_images/stage1_train/ff599c7301daa1f783924ac8cbe3ce7b42878f15a39c2d19659189951f540f48/masks/08494db6e5b0530016ddbeef356019290c1358b10caed7c25ba2302294210e18.png\")"
   ]
  },
  {
   "cell_type": "code",
   "execution_count": 106,
   "metadata": {},
   "outputs": [],
   "source": [
    "im2 =  Image.open(\"/data/unagi0/kanayama/dataset/nuclei_images/stage1_train/ff599c7301daa1f783924ac8cbe3ce7b42878f15a39c2d19659189951f540f48/masks/099877c5aee6ec1d47c97b2b4caea340d751b03dbe93cf0192a105fe394831d2.png\")"
   ]
  },
  {
   "cell_type": "code",
   "execution_count": 107,
   "metadata": {},
   "outputs": [],
   "source": [
    "im1 = np.asarray(im1)\n",
    "im2 = np.asarray(im2)"
   ]
  },
  {
   "cell_type": "code",
   "execution_count": 127,
   "metadata": {},
   "outputs": [],
   "source": [
    "im1_large = cv2.dilate(im1, np.ones((5,5),np.uint8), iterations = 10)"
   ]
  },
  {
   "cell_type": "code",
   "execution_count": 128,
   "metadata": {},
   "outputs": [
    {
     "data": {
      "image/png": "[encoded data removed]",
      "text/plain": [
       "<PIL.Image.Image image mode=L size=360x360 at 0x7FA200DC0780>"
      ]
     },
     "execution_count": 128,
     "metadata": {},
     "output_type": "execute_result"
    }
   ],
   "source": [
    "Image.fromarray(im1_large)"
   ]
  },
  {
   "cell_type": "code",
   "execution_count": 129,
   "metadata": {},
   "outputs": [],
   "source": [
    "im1_large_bool = (im1_large == 0)\n",
    "im1_bool = (im1 == 255)\n",
    "im2_bool = (im2 == 255)"
   ]
  },
  {
   "cell_type": "code",
   "execution_count": 130,
   "metadata": {},
   "outputs": [
    {
     "data": {
      "text/plain": [
       "array([[ True,  True,  True, ...,  True,  True,  True],\n",
       "       [ True,  True,  True, ...,  True,  True,  True],\n",
       "       [ True,  True,  True, ...,  True,  True,  True],\n",
       "       ...,\n",
       "       [ True,  True,  True, ...,  True,  True,  True],\n",
       "       [ True,  True,  True, ...,  True,  True,  True],\n",
       "       [ True,  True,  True, ...,  True,  True,  True]])"
      ]
     },
     "execution_count": 130,
     "metadata": {},
     "output_type": "execute_result"
    }
   ],
   "source": [
    "im1_large_bool"
   ]
  },
  {
   "cell_type": "code",
   "execution_count": 131,
   "metadata": {},
   "outputs": [],
   "source": [
    "im3 = np.logical_and(im1_large_bool, im2_bool)"
   ]
  },
  {
   "cell_type": "code",
   "execution_count": 132,
   "metadata": {},
   "outputs": [
    {
     "data": {
      "text/plain": [
       "False"
      ]
     },
     "execution_count": 132,
     "metadata": {},
     "output_type": "execute_result"
    }
   ],
   "source": [
    "(im3 == im2_bool).min()"
   ]
  },
  {
   "cell_type": "code",
   "execution_count": 133,
   "metadata": {},
   "outputs": [
    {
     "data": {
      "image/png": "[encoded data removed]",
      "text/plain": [
       "<PIL.Image.Image image mode=L size=360x360 at 0x7FA200DC0A20>"
      ]
     },
     "execution_count": 133,
     "metadata": {},
     "output_type": "execute_result"
    }
   ],
   "source": [
    "Image.fromarray(im3.astype(np.uint8) * 255)"
   ]
  },
  {
   "cell_type": "code",
   "execution_count": 134,
   "metadata": {},
   "outputs": [],
   "source": [
    "im4 = np.logical_or(im3, im1_bool)"
   ]
  },
  {
   "cell_type": "code",
   "execution_count": 135,
   "metadata": {
    "scrolled": true
   },
   "outputs": [
    {
     "data": {
      "image/png": "[encoded data removed]",
      "text/plain": [
       "<PIL.Image.Image image mode=L size=360x360 at 0x7FA200DC0400>"
      ]
     },
     "execution_count": 135,
     "metadata": {},
     "output_type": "execute_result"
    }
   ],
   "source": [
    "Image.fromarray(im4.astype(np.uint8) * 255)"
   ]
  },
  {
   "cell_type": "code",
   "execution_count": null,
   "metadata": {},
   "outputs": [],
   "source": [
    "os.listdir('/data/unagi0/kanayama/dataset/nuclei_images/stage1_train/')"
   ]
  },
  {
   "cell_type": "code",
   "execution_count": 6,
   "metadata": {},
   "outputs": [],
   "source": [
    "#imagesのpre-process\n",
    "TRAIN_PATH = '/data/unagi0/kanayama/dataset/nuclei_images/stage1_train/'\n",
    "DST_PATH =  '/data/unagi0/kanayama/dataset/nuclei_images/stage1_train_default/'\n",
    "\n",
    "SIZE = (640, 640)\n",
    "for dirname in os.listdir(TRAIN_PATH):\n",
    "        im = Image.open(TRAIN_PATH + dirname + '/images/' + dirname + '.png')\n",
    "        #im = im.resize(SIZE)\n",
    "        im.save(DST_PATH + 'images/' + dirname + '.png', \"png\")"
   ]
  },
  {
   "cell_type": "code",
   "execution_count": null,
   "metadata": {},
   "outputs": [],
   "source": [
    "#imagesのpre-process（白黒のみとcolorを分ける）\n",
    "TRAIN_PATH = '/data/unagi0/kanayama/dataset/nuclei_images/stage1_train/'\n",
    "GRAY_PATH =  '/data/unagi0/kanayama/dataset/nuclei_images/stage1_train_default_gray/'\n",
    "COLOR_PATH =  '/data/unagi0/kanayama/dataset/nuclei_images/stage1_train_default_color/'\n",
    "THRESH = 10\n",
    "\n",
    "SIZE = (640, 640)\n",
    "for dirname in os.listdir(TRAIN_PATH):\n",
    "        im = Image.open(TRAIN_PATH + dirname + '/images/' + dirname + '.png')\n",
    "        #im = im.resize(SIZE)\n",
    "        im_array = np.asarray(im)\n",
    "        if (im_array[:, :, 1] - im_array[:, :, 2]).sum() ** 2 <  THRESH:\n",
    "            im.save(GRAY_PATH + 'images/' + dirname + '.png', \"png\")\n",
    "        else:\n",
    "            im.save(COLOR_PATH + 'images/' + dirname + '.png', \"png\")"
   ]
  },
  {
   "cell_type": "code",
   "execution_count": 5,
   "metadata": {},
   "outputs": [],
   "source": [
    "#maskのpre-process\n",
    "TRAIN_PATH = '/data/unagi0/kanayama/dataset/nuclei_images/stage1_train/'\n",
    "DST_PATH =  '/data/unagi0/kanayama/dataset/nuclei_images/stage1_train_default/'\n",
    "\n",
    "#SIZE = (640, 640)\n",
    "for dirname in os.listdir(TRAIN_PATH):\n",
    "        # 空の行列を作るために、最初の1個だけ見ておく\n",
    "        filename_one = os.listdir(TRAIN_PATH + dirname + '/masks/')[0]\n",
    "        im = Image.open(TRAIN_PATH + dirname + '/masks/' + filename_one)\n",
    "        size = im.size\n",
    "        tmp = np.full((size[1], size[0]), False, dtype=bool)\n",
    "        \n",
    "        for filename in os.listdir(TRAIN_PATH + dirname + '/masks/'):\n",
    "            im = Image.open(TRAIN_PATH + dirname + '/masks/' + filename)\n",
    "            #im = im.resize(SIZE)\n",
    "            im = np.asarray(im)\n",
    "            im = (im == 255)\n",
    "            tmp = np.logical_or(tmp, im)\n",
    "        im = tmp.astype(np.uint8) * 255\n",
    "        im = Image.fromarray(im)\n",
    "        im.save(DST_PATH + 'masks/' + dirname + '.png', \"png\")"
   ]
  },
  {
   "cell_type": "code",
   "execution_count": null,
   "metadata": {},
   "outputs": [],
   "source": [
    "#test imagesのpre-process\n",
    "TEST_PATH = '/data/unagi0/kanayama/dataset/nuclei_images/stage1_test/'\n",
    "DST_PATH =  '/data/unagi0/kanayama/dataset/nuclei_images/stage1_test_preprocessed/'\n",
    "\n",
    "SIZE = (640, 640)\n",
    "for dirname in os.listdir(TEST_PATH):\n",
    "        im = Image.open(TEST_PATH + dirname + '/images/' + dirname + '.png')\n",
    "        im = im.resize(SIZE)\n",
    "        im.save(DST_PATH + 'images/' + dirname + '.png', \"png\")"
   ]
  },
  {
   "cell_type": "code",
   "execution_count": 137,
   "metadata": {},
   "outputs": [],
   "source": [
    "#maskのpre-process（膨張処理により、わずかに輪郭を描く）\n",
    "TRAIN_PATH = '/data/unagi0/kanayama/dataset/nuclei_images/stage1_train/'\n",
    "DST_PATH =  '/data/unagi0/kanayama/dataset/nuclei_images/stage1_train_default/'\n",
    "\n",
    "for dirname in os.listdir(TRAIN_PATH):\n",
    "        # 空の行列を作るために、最初の1個だけ見ておく\n",
    "        filename_one = os.listdir(TRAIN_PATH + dirname + '/masks/')[0]\n",
    "        im = Image.open(TRAIN_PATH + dirname + '/masks/' + filename_one)\n",
    "        size = im.size\n",
    "        tmp = np.full((size[1], size[0]), False, dtype=bool)\n",
    "        \n",
    "        for filename in os.listdir(TRAIN_PATH + dirname + '/masks/'):\n",
    "            im = Image.open(TRAIN_PATH + dirname + '/masks/' + filename)\n",
    "            im = np.asarray(im)\n",
    "            # 微妙に膨張させる\n",
    "            im_large = cv2.dilate(im, np.ones((5,5),np.uint8), iterations = 1)\n",
    "            im_large_bool = (im_large == 0)\n",
    "            im_bool = (im == 255)            \n",
    "            tmp = np.logical_and(im_large_bool, tmp)\n",
    "            tmp = np.logical_or(tmp, im_bool)\n",
    "\n",
    "        im = tmp.astype(np.uint8) * 255\n",
    "        im = Image.fromarray(im)\n",
    "        im.save(DST_PATH + 'masks/' + dirname + '.png', \"png\")"
   ]
  }
 ],
 "metadata": {
  "kernelspec": {
   "display_name": "Python 3",
   "language": "python",
   "name": "python3"
  },
  "language_info": {
   "codemirror_mode": {
    "name": "ipython",
    "version": 3
   },
   "file_extension": ".py",
   "mimetype": "text/x-python",
   "name": "python",
   "nbconvert_exporter": "python",
   "pygments_lexer": "ipython3",
   "version": "3.6.4"
  }
 },
 "nbformat": 4,
 "nbformat_minor": 2
}
