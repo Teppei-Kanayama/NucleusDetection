{
 "cells": [
  {
   "cell_type": "code",
   "execution_count": null,
   "metadata": {
    "collapsed": true
   },
   "outputs": [],
   "source": [
    "# coding: utf-8\n",
    "\n",
    "#カラー/モノクロの識別をした後、カラー画像を3つのタイプ（白背景-紫、紫背景-紫、HE染色）に分類するプログラム\n",
    "#ルールベースでざーっと書いてみました。穴はあると思いますけど、とりあえず。"
   ]
  },
  {
   "cell_type": "code",
   "execution_count": null,
   "metadata": {
    "collapsed": true
   },
   "outputs": [],
   "source": [
    "import cv2\n",
    "import numpy as np\n",
    "from Otsu import Otsu"
   ]
  },
  {
   "cell_type": "code",
   "execution_count": null,
   "metadata": {
    "collapsed": true
   },
   "outputs": [],
   "source": [
    "#カラーかモノクロかをまず判別する\n",
    "def is_color(b, g, r):\n",
    "    if np.allclose(b, g) and np.allclose(g,r):\n",
    "        return False  # monocro\n",
    "    else:\n",
    "        return True  # color"
   ]
  },
  {
   "cell_type": "code",
   "execution_count": null,
   "metadata": {
    "collapsed": true
   },
   "outputs": [],
   "source": [
    "# モノクロ画像を分類する\n",
    "def mono_classification(r):\n",
    "    #R=G=Bなので1つについてのみ画素の平均を計算\n",
    "    average = r.mean(0).mean(0)\n",
    "\n",
    "    #全体に明るければ背景は白、暗ければ背景は黒\n",
    "    if average > 126:\n",
    "        return 1  # type white-back\n",
    "    else:\n",
    "        return 2  # type black-black"
   ]
  },
  {
   "cell_type": "code",
   "execution_count": null,
   "metadata": {
    "collapsed": true
   },
   "outputs": [],
   "source": [
    "# カラー画像を分類する\n",
    "def color_classification(r, g, b, img):\n",
    "    #RGBそれぞれについて、ヒストグラム（0-255のピクセルがそれぞれいくつあるか）を作成\n",
    "    #これもnumpy.ndarrayである\n",
    "    hist_r, bins = np.histogram(r.ravel(),256,[0,256])\n",
    "    hist_g, bins = np.histogram(g.ravel(),256,[0,256])\n",
    "    hist_b, bins = np.histogram(b.ravel(),256,[0,256])\n",
    "\n",
    "    #RGBそれぞれについてヒストグラムのピークを取得\n",
    "    #r_maxなどはnumpy.int64型であることに注意\n",
    "    r_max = np.argmax(hist_r)\n",
    "    b_max = np.argmax(hist_b)\n",
    "    g_max = np.argmax(hist_g)\n",
    "    \n",
    "\n",
    "    if abs(r_max - b_max) < 10 and abs(b_max - g_max) < 10 and abs(g_max - r_max) < 10:\n",
    "        #3つのピークがほぼ等しい（閾値：10）（＝ほぼ白）なら白背景の紫パターン\n",
    "        #だけど一応白部分を除いたやつを見て判断\n",
    "        if maskedhist(img) == 5:\n",
    "            return 5\n",
    "        else:\n",
    "            return 3\n",
    "\n",
    "    elif b_max - r_max > 7 and r_max - g_max > 7:\n",
    "        #濃い方からピークがきれいに山3つ、Blue>Red>Greenになるようならば紫背景の紫パターン\n",
    "        return 4\n",
    "\n",
    "    elif r_max - b_max > 0 and b_max - g_max > 30:\n",
    "        # BlueよりRedが濃く、Greenは非常に薄くて山がかなり下なほうなのがHE染色のパターン（肉眼だと赤っぽい）\n",
    "        #白部分を除いたやつを見て判断\n",
    "        if maskedhist(img) == 5:\n",
    "            return 5\n",
    "        else:\n",
    "            return 3\n",
    "\n",
    "    else:\n",
    "        #白背景の紫パターンで、これで捉えきれないものがあるので（ガバガバふぃるたー）\n",
    "        return 3"
   ]
  },
  {
   "cell_type": "code",
   "execution_count": null,
   "metadata": {
    "collapsed": true
   },
   "outputs": [],
   "source": [
    "#白背景の紫:3とHE：5を識別する\n",
    "def maskedhist(img):\n",
    "    img_mono = cv2.cvtColor(img, cv2.COLOR_RGB2GRAY)\n",
    "    #cv2.thresholdが使えるのはグレースケールなので注意\n",
    "    i = Otsu (img_mono)\n",
    "    mask = i.data()\n",
    "    mask_int = mask.astype(np.uint8)\n",
    "    #cv2.calcHistに与えるmaskはuint8でなければならない\n",
    "    hist_r_mask = cv2.calcHist([img],[2],mask_int,[256],[0,256])\n",
    "    hist_g_mask = cv2.calcHist([img],[1],mask_int,[256],[0,256])\n",
    "    hist_b_mask = cv2.calcHist([img],[0],mask_int,[256],[0,256])\n",
    "    \n",
    "    #RGBそれぞれについて（マスクの）ヒストグラムのピークを取得\n",
    "    r_mask_max = np.argmax(hist_r_mask)\n",
    "    g_mask_max = np.argmax(hist_g_mask)\n",
    "    b_mask_max = np.argmax(hist_b_mask)\n",
    "    \n",
    "    if r_mask_max - b_mask_max > 7 and b_mask_max - g_mask_max > 10:\n",
    "        return 5\n",
    "    #赤が濃ければHE\n",
    "    else:\n",
    "        return 3\n",
    "    "
   ]
  },
  {
   "cell_type": "code",
   "execution_count": null,
   "metadata": {
    "collapsed": true
   },
   "outputs": [],
   "source": [
    "# 白黒（背景白）: 1, 白黒（背景黒）:2, 白背景の紫: 3, 紫背景の紫: 4, HE: 5 を返す\n",
    "def imagetype_classification(filename):\n",
    "    img = cv2.imread(filename)\n",
    "    #opencvにおいては画像をimreadするとnumpy.ndarray形式で読み込まれる（行（高さ） x 列（幅） x 色（BGR）の三次元）\n",
    "    #このとき、RGB順でなくBGR順になることに注意\n",
    "    b, g, r = img[:,:,0], img[:,:,1], img[:,:,2]\n",
    "    color = is_color(b, g, r)\n",
    "\n",
    "    if not color:  # モノクロの場合\n",
    "        return mono_classification(r)\n",
    "    else: # カラーの場合\n",
    "        return color_classification(r, g, b, img)"
   ]
  },
  {
   "cell_type": "code",
   "execution_count": null,
   "metadata": {
    "collapsed": false
   },
   "outputs": [],
   "source": [
    "if __name__ == \"__main__\":\n",
    "    print(imagetype_classification(\"sample.png\"))"
   ]
  }
 ],
 "metadata": {
  "kernelspec": {
   "display_name": "Python [default]",
   "language": "python",
   "name": "python3"
  },
  "language_info": {
   "codemirror_mode": {
    "name": "ipython",
    "version": 3
   },
   "file_extension": ".py",
   "mimetype": "text/x-python",
   "name": "python",
   "nbconvert_exporter": "python",
   "pygments_lexer": "ipython3",
   "version": "3.5.2"
  }
 },
 "nbformat": 4,
 "nbformat_minor": 1
}
