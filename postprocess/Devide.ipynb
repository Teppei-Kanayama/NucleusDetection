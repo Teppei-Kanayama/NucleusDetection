{
 "cells": [
  {
   "cell_type": "code",
   "execution_count": 8,
   "metadata": {},
   "outputs": [],
   "source": [
    "import numpy as np\n",
    "from PIL import Image\n",
    "import os\n",
    "import sys\n",
    "import cv2\n",
    "from Otsu import Otsu\n",
    "from CurveDetect import CurveDetect\n",
    "from tools import delete_noise, show_prediction\n",
    "import sys\n",
    "sys.path.append(\"../main/\")\n",
    "from validation import validate\n",
    "from Devide import Devide\n",
    "\n",
    "import glob\n",
    "import matplotlib.pyplot as plt\n",
    "from enum import Enum"
   ]
  },
  {
   "cell_type": "code",
   "execution_count": 9,
   "metadata": {
    "scrolled": true
   },
   "outputs": [
    {
     "data": {
      "image/png": "[encoded data removed]",
      "text/plain": [
       "<PIL.PngImagePlugin.PngImageFile image mode=L size=253x519 at 0x7F0A846FB0B8>"
      ]
     },
     "execution_count": 9,
     "metadata": {},
     "output_type": "execute_result"
    }
   ],
   "source": [
    "# test画像の分析\n",
    "TEST_FILE_ROOT =  \"/data/unagi0/kanayama/dataset/nuclei_images/stage1_test/\"\n",
    "ANSWER_FILE_ROOT =  \"/data/unagi0/kanayama/dataset/nuclei_images/answer_0352/\"\n",
    "\n",
    "filename = \"0999dab07b11bc85fb8464fc36c947fbd8b5d6ec49817361cb780659ca805eac\"\n",
    "\n",
    "original_image =  Image.open(TEST_FILE_ROOT + filename + '/images/' + filename + \".png\")\n",
    "predicted_mask =  Image.open(ANSWER_FILE_ROOT + filename + \".png\")\n",
    "\n",
    "original_image_array = np.asarray(original_image)[:, :, :3].copy()\n",
    "predicted_mask_array = np.asarray(predicted_mask)\n",
    "\n",
    "predicted_mask"
   ]
  },
  {
   "cell_type": "code",
   "execution_count": 11,
   "metadata": {},
   "outputs": [
    {
     "data": {
      "text/plain": [
       "array([[[235, 235, 235],\n",
       "        [237, 237, 237],\n",
       "        [237, 237, 237],\n",
       "        ...,\n",
       "        [213, 213, 213],\n",
       "        [220, 220, 220],\n",
       "        [228, 228, 228]],\n",
       "\n",
       "       [[236, 236, 236],\n",
       "        [236, 236, 236],\n",
       "        [238, 238, 238],\n",
       "        ...,\n",
       "        [212, 212, 212],\n",
       "        [220, 220, 220],\n",
       "        [226, 226, 226]],\n",
       "\n",
       "       [[235, 235, 235],\n",
       "        [236, 236, 236],\n",
       "        [236, 236, 236],\n",
       "        ...,\n",
       "        [214, 214, 214],\n",
       "        [219, 219, 219],\n",
       "        [227, 227, 227]],\n",
       "\n",
       "       ...,\n",
       "\n",
       "       [[226, 226, 226],\n",
       "        [227, 227, 227],\n",
       "        [229, 229, 229],\n",
       "        ...,\n",
       "        [240, 240, 240],\n",
       "        [241, 241, 241],\n",
       "        [241, 241, 241]],\n",
       "\n",
       "       [[228, 228, 228],\n",
       "        [230, 230, 230],\n",
       "        [231, 231, 231],\n",
       "        ...,\n",
       "        [241, 241, 241],\n",
       "        [241, 241, 241],\n",
       "        [241, 241, 241]],\n",
       "\n",
       "       [[229, 229, 229],\n",
       "        [231, 231, 231],\n",
       "        [233, 233, 233],\n",
       "        ...,\n",
       "        [240, 240, 240],\n",
       "        [240, 240, 240],\n",
       "        [240, 240, 240]]], dtype=uint8)"
      ]
     },
     "execution_count": 11,
     "metadata": {},
     "output_type": "execute_result"
    }
   ],
   "source": [
    "255 - original_image_array"
   ]
  },
  {
   "cell_type": "code",
   "execution_count": 12,
   "metadata": {},
   "outputs": [],
   "source": [
    "devide = Devide(255 - original_image_array, predicted_mask_array)"
   ]
  },
  {
   "cell_type": "code",
   "execution_count": 13,
   "metadata": {},
   "outputs": [],
   "source": [
    "data = devide.data()"
   ]
  },
  {
   "cell_type": "code",
   "execution_count": 14,
   "metadata": {},
   "outputs": [
    {
     "data": {
      "text/plain": [
       "(array([-1,  1,  2,  3,  4,  5,  6,  7,  8,  9, 10, 11, 12, 13, 14, 15, 16,\n",
       "        17, 18, 19, 20, 21, 22, 23, 24, 25, 26, 27, 28, 29, 30, 31, 32, 33,\n",
       "        34, 35, 36, 37, 38, 39, 40, 41, 42, 43, 44, 45, 46, 47, 48, 49, 50,\n",
       "        51, 52, 53, 54, 55, 56, 57, 58, 59, 60, 61, 62, 63, 64, 65, 66],\n",
       "       dtype=int32),\n",
       " array([  5675, 100748,    859,    111,    476,    435,    143,    262,\n",
       "           179,    498,    426,     62,    130,     48,    346,    348,\n",
       "           388,    527,     31,    409,    473,    443,    277,    148,\n",
       "           465,    504,    521,    374,    364,    361,    523,    430,\n",
       "           560,    600,    441,    446,    391,    590,    367,    558,\n",
       "           410,    457,     30,    404,    516,    691,    528,    425,\n",
       "           136,    476,    493,    420,    267,    443,    444,    499,\n",
       "           218,    433,    530,    257,    616,    553,    578,    398,\n",
       "            62,      7,     79]))"
      ]
     },
     "execution_count": 14,
     "metadata": {},
     "output_type": "execute_result"
    }
   ],
   "source": [
    "np.unique(data, return_counts=True)"
   ]
  },
  {
   "cell_type": "code",
   "execution_count": 15,
   "metadata": {},
   "outputs": [
    {
     "data": {
      "image/png": "[encoded data removed]",
      "text/plain": [
       "<matplotlib.figure.Figure at 0x7f0a9f0dd828>"
      ]
     },
     "metadata": {},
     "output_type": "display_data"
    }
   ],
   "source": [
    "devide.show()"
   ]
  },
  {
   "cell_type": "code",
   "execution_count": 16,
   "metadata": {},
   "outputs": [
    {
     "data": {
      "image/png": "[encoded data removed]",
      "text/plain": [
       "<PIL.Image.Image image mode=L size=253x519 at 0x7F0A8470EAC8>"
      ]
     },
     "execution_count": 16,
     "metadata": {},
     "output_type": "execute_result"
    }
   ],
   "source": [
    "Image.fromarray(devide.make_mask())"
   ]
  },
  {
   "cell_type": "code",
   "execution_count": null,
   "metadata": {},
   "outputs": [],
   "source": [
    "org_img = original_image_array\n",
    "org_mask = predicted_mask_array"
   ]
  },
  {
   "cell_type": "code",
   "execution_count": null,
   "metadata": {},
   "outputs": [],
   "source": [
    "train_data = org_img[:, :, :3].copy()  # omit alpha channel\n",
    "train_data_gray = cv2.cvtColor(train_data, cv2.COLOR_RGB2GRAY)\n",
    "mask_data = org_mask\n",
    "mask_data = mask_data.copy()"
   ]
  },
  {
   "cell_type": "code",
   "execution_count": null,
   "metadata": {},
   "outputs": [],
   "source": [
    "train_data_gray"
   ]
  },
  {
   "cell_type": "code",
   "execution_count": null,
   "metadata": {},
   "outputs": [],
   "source": [
    "mask_data"
   ]
  },
  {
   "cell_type": "code",
   "execution_count": null,
   "metadata": {},
   "outputs": [],
   "source": [
    "#ヒストグラム正規化により差が出やすくする\n",
    "clahe = cv2.createCLAHE(clipLimit=2.0, tileGridSize=(8,8))\n",
    "equ = clahe.apply(train_data_gray)"
   ]
  },
  {
   "cell_type": "code",
   "execution_count": null,
   "metadata": {},
   "outputs": [],
   "source": []
  }
 ],
 "metadata": {
  "kernelspec": {
   "display_name": "Python 3",
   "language": "python",
   "name": "python3"
  },
  "language_info": {
   "codemirror_mode": {
    "name": "ipython",
    "version": 3
   },
   "file_extension": ".py",
   "mimetype": "text/x-python",
   "name": "python",
   "nbconvert_exporter": "python",
   "pygments_lexer": "ipython3",
   "version": "3.6.4"
  }
 },
 "nbformat": 4,
 "nbformat_minor": 2
}
