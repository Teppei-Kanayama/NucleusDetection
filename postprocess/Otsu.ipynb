{
 "cells": [
  {
   "cell_type": "code",
   "execution_count": 19,
   "metadata": {},
   "outputs": [],
   "source": [
    "import cv2\n",
    "import matplotlib.pyplot as plt\n",
    "class OTSU:\n",
    "    __data = 0\n",
    "    def __init__(self,file_name):\n",
    "        src = cv2.imread(file_name, cv2.IMREAD_GRAYSCALE)\n",
    "        ret, self.__data = cv2.threshold(src, 0, 255, cv2.THRESH_OTSU)\n",
    "    def show(self):\n",
    "        plt.imshow(self.__data)\n",
    "        plt.gray()\n",
    "        plt.show()\n",
    "    def data(self):\n",
    "        return self.__data"
   ]
  }
 ],
 "metadata": {
  "kernelspec": {
   "display_name": "Python 3",
   "language": "python",
   "name": "python3"
  },
  "language_info": {
   "codemirror_mode": {
    "name": "ipython",
    "version": 3
   },
   "file_extension": ".py",
   "mimetype": "text/x-python",
   "name": "python",
   "nbconvert_exporter": "python",
   "pygments_lexer": "ipython3",
   "version": "3.6.4"
  }
 },
 "nbformat": 4,
 "nbformat_minor": 2
}
